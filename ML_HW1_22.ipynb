{
  "cells": [
    {
      "cell_type": "code",
      "execution_count": 1,
      "metadata": {
        "id": "-07ChOML7Pnh"
      },
      "outputs": [],
      "source": [
        "import numpy as np\n",
        "import pandas as pd\n",
        "import matplotlib.pyplot as plt\n",
        "import sklearn as skl"
      ]
    },
    {
      "cell_type": "code",
      "execution_count": 2,
      "metadata": {
        "id": "huO_uoUe7u6l"
      },
      "outputs": [],
      "source": [
        "df = pd.read_csv('train_set.tsv', sep='\\t', header=0)"
      ]
    },
    {
      "cell_type": "markdown",
      "metadata": {
        "id": "p9j0UuwL7n-3"
      },
      "source": [
        "TEST 1: base-normalization, logistic reg"
      ]
    },
    {
      "cell_type": "code",
      "execution_count": null,
      "metadata": {
        "id": "MxrOjQ367tqV"
      },
      "outputs": [],
      "source": [
        "from sklearn.model_selection import train_test_split\n",
        "\n",
        "df_clf = df.drop('min_CPA', axis=1)\n",
        "X, y  = df_clf.loc[:, df_clf.columns != 'num_collisions'], df_clf['num_collisions']\n",
        "X_train, X_test, y_train, y_test = train_test_split(X, y) "
      ]
    },
    {
      "cell_type": "code",
      "source": [
        "from sklearn.preprocessing import StandardScaler\n",
        "scaler = StandardScaler().fit(X_train)\n",
        "X_train = scaler.transform(X_train)\n",
        "X_test = scaler.transform(X_test)"
      ],
      "metadata": {
        "id": "GTg9ppT8Q3M1"
      },
      "execution_count": null,
      "outputs": []
    },
    {
      "cell_type": "code",
      "source": [
        "# basic clf: logistic reg for multiclass\n",
        "from sklearn.linear_model import LogisticRegression\n",
        "from sklearn.svm import SVC\n",
        "\n",
        "\n",
        "y_train_count = y_train.value_counts()\n",
        "len_y_train = len(y_train)\n",
        "'''\n",
        "weight_dict = {0: (1 - y_train_count[0] / len_y_train)**2,\n",
        "               1: (1 - y_train_count[1] / len_y_train)**2,\n",
        "               2: (1 - y_train_count[2] / len_y_train)**2,\n",
        "               3: (1 - y_train_count[3] / len_y_train)**2,\n",
        "               4: (1 - y_train_count[4] / len_y_train)**2\n",
        "'''\n",
        "weight_dict = {0: ( len_y_train / y_train_count[0]),\n",
        "               1: ( len_y_train / y_train_count[1]),\n",
        "               2: ( len_y_train / y_train_count[2]),\n",
        "               3: ( len_y_train / y_train_count[3]),\n",
        "               4: ( len_y_train / y_train_count[4])\n",
        "               }\n",
        "weight_dict"
      ],
      "metadata": {
        "colab": {
          "base_uri": "https://localhost:8080/"
        },
        "id": "SWi9ZxeJSwCV",
        "outputId": "a87c8d92-e89d-4439-b751-72d146acccd7"
      },
      "execution_count": null,
      "outputs": [
        {
          "output_type": "execute_result",
          "data": {
            "text/plain": [
              "{0: 1.8427518427518428,\n",
              " 1: 3.0364372469635628,\n",
              " 2: 10.416666666666666,\n",
              " 3: 32.608695652173914,\n",
              " 4: 750.0}"
            ]
          },
          "metadata": {},
          "execution_count": 238
        }
      ]
    },
    {
      "cell_type": "code",
      "source": [
        "log_reg = LogisticRegression(solver='saga', max_iter=5000, class_weight=weight_dict,)\n",
        "log_reg.fit(X_train, y_train)\n",
        "# 500 iter ---> only for convergence | empirical search"
      ],
      "metadata": {
        "colab": {
          "base_uri": "https://localhost:8080/"
        },
        "id": "XZvudlISXjig",
        "outputId": "5334005a-7e79-49d1-f952-9d315782e689"
      },
      "execution_count": null,
      "outputs": [
        {
          "output_type": "stream",
          "name": "stderr",
          "text": [
            "/usr/local/lib/python3.8/dist-packages/sklearn/linear_model/_sag.py:352: ConvergenceWarning: The max_iter was reached which means the coef_ did not converge\n",
            "  warnings.warn(\n"
          ]
        },
        {
          "output_type": "execute_result",
          "data": {
            "text/plain": [
              "LogisticRegression(class_weight={0: 1.8427518427518428, 1: 3.0364372469635628,\n",
              "                                 2: 10.416666666666666, 3: 32.608695652173914,\n",
              "                                 4: 750.0},\n",
              "                   max_iter=5000, solver='saga')"
            ]
          },
          "metadata": {},
          "execution_count": 239
        }
      ]
    },
    {
      "cell_type": "code",
      "source": [
        "svc = SVC(class_weight=weight_dict)\n",
        "svc.fit(X_train, y_train)"
      ],
      "metadata": {
        "colab": {
          "base_uri": "https://localhost:8080/"
        },
        "id": "oSe0tnAkYUaI",
        "outputId": "65901b66-d30d-4e24-c534-0eac527baf19"
      },
      "execution_count": null,
      "outputs": [
        {
          "output_type": "execute_result",
          "data": {
            "text/plain": [
              "SVC(class_weight={0: 1.8427518427518428, 1: 3.0364372469635628,\n",
              "                  2: 10.416666666666666, 3: 32.608695652173914, 4: 750.0})"
            ]
          },
          "metadata": {},
          "execution_count": 240
        }
      ]
    },
    {
      "cell_type": "code",
      "source": [
        "from sklearn.metrics import confusion_matrix, plot_confusion_matrix\n",
        "from sklearn.metrics import f1_score\n",
        "\n",
        "plot_confusion_matrix(log_reg, X_test, y_test)\n",
        "plot_confusion_matrix(svc, X_test, y_test) \n"
      ],
      "metadata": {
        "colab": {
          "base_uri": "https://localhost:8080/",
          "height": 648
        },
        "id": "8UlU0brLZRi7",
        "outputId": "7960a8fb-7903-4275-ee8e-79d37ea88b8a"
      },
      "execution_count": null,
      "outputs": [
        {
          "output_type": "stream",
          "name": "stderr",
          "text": [
            "/usr/local/lib/python3.8/dist-packages/sklearn/utils/deprecation.py:87: FutureWarning: Function plot_confusion_matrix is deprecated; Function `plot_confusion_matrix` is deprecated in 1.0 and will be removed in 1.2. Use one of the class methods: ConfusionMatrixDisplay.from_predictions or ConfusionMatrixDisplay.from_estimator.\n",
            "  warnings.warn(msg, category=FutureWarning)\n",
            "/usr/local/lib/python3.8/dist-packages/sklearn/utils/deprecation.py:87: FutureWarning: Function plot_confusion_matrix is deprecated; Function `plot_confusion_matrix` is deprecated in 1.0 and will be removed in 1.2. Use one of the class methods: ConfusionMatrixDisplay.from_predictions or ConfusionMatrixDisplay.from_estimator.\n",
            "  warnings.warn(msg, category=FutureWarning)\n"
          ]
        },
        {
          "output_type": "execute_result",
          "data": {
            "text/plain": [
              "<sklearn.metrics._plot.confusion_matrix.ConfusionMatrixDisplay at 0x7f07ac277fd0>"
            ]
          },
          "metadata": {},
          "execution_count": 241
        },
        {
          "output_type": "display_data",
          "data": {
            "text/plain": [
              "<Figure size 432x288 with 2 Axes>"
            ],
            "image/png": "[encoded data removed]"
          },
          "metadata": {
            "needs_background": "light"
          }
        },
        {
          "output_type": "display_data",
          "data": {
            "text/plain": [
              "<Figure size 432x288 with 2 Axes>"
            ],
            "image/png": "[encoded data removed]"
          },
          "metadata": {
            "needs_background": "light"
          }
        }
      ]
    },
    {
      "cell_type": "code",
      "source": [
        "print(f\"logistic_regression f1: {f1_score(y_test, log_reg.predict(X_test), average='weighted')},\")\n",
        "print(f\"svc  f1: {f1_score(y_test, svc.predict(X_test), average='weighted')}\")"
      ],
      "metadata": {
        "colab": {
          "base_uri": "https://localhost:8080/"
        },
        "id": "CCBJ4l5BYD53",
        "outputId": "d4ac3c2d-f3f4-453c-bd95-ee2b9cc96fef"
      },
      "execution_count": null,
      "outputs": [
        {
          "output_type": "stream",
          "name": "stdout",
          "text": [
            "logistic_regression f1: 0.2661305602092676,\n",
            "svc  f1: 0.5117035417570436\n"
          ]
        }
      ]
    },
    {
      "cell_type": "markdown",
      "metadata": {
        "id": "w5v8mG238UJO"
      },
      "source": [
        "TEST 2:\n",
        "\n",
        "  preprocessing: \n",
        "  separete collision vs non_collision ---> use a second model"
      ]
    },
    {
      "cell_type": "code",
      "source": [
        "# ORIGINAL DISTRIBUTION \n",
        "df_clf = df.drop('min_CPA', axis=1)\n",
        "#substitution of train test\n",
        "df_clf_test = df_clf.sample(frac=0.33)\n",
        "df_clf_train = df_clf.drop(df_clf_test.index)\n",
        "\n",
        "df_clf_train['num_collisions'].plot.hist()\n",
        "df_clf_train['num_collisions'].value_counts()"
      ],
      "metadata": {
        "colab": {
          "base_uri": "https://localhost:8080/",
          "height": 369
        },
        "id": "BIbMxY8wfc5H",
        "outputId": "65c2e497-7de4-41c8-d18b-d54580cb757c"
      },
      "execution_count": 21,
      "outputs": [
        {
          "output_type": "execute_result",
          "data": {
            "text/plain": [
              "0    359\n",
              "1    226\n",
              "2     65\n",
              "3     18\n",
              "4      2\n",
              "Name: num_collisions, dtype: int64"
            ]
          },
          "metadata": {},
          "execution_count": 21
        },
        {
          "output_type": "display_data",
          "data": {
            "text/plain": [
              "<Figure size 432x288 with 1 Axes>"
            ],
            "image/png": "[encoded data removed]"
          },
          "metadata": {
            "needs_background": "light"
          }
        }
      ]
    },
    {
      "cell_type": "code",
      "source": [
        "df_clf_train.reset_index(inplace=True)\n",
        "df_clf_train.drop('index', axis='columns', inplace=True)\n",
        "df_clf_train"
      ],
      "metadata": {
        "colab": {
          "base_uri": "https://localhost:8080/",
          "height": 488
        },
        "id": "sny4ioPaQkoO",
        "outputId": "b4e6b6b6-cddd-4c29-b30f-09e996e1052b"
      },
      "execution_count": 22,
      "outputs": [
        {
          "output_type": "execute_result",
          "data": {
            "text/plain": [
              "     UAV_1_track       UAV_1_x       UAV_1_y    UAV_1_vx    UAV_1_vy  \\\n",
              "0       0.027068 -62300.591721 -59305.682068    6.705684  247.671970   \n",
              "1       1.841994 -19900.350438  59030.833595  208.716697  -58.033328   \n",
              "2       3.621532 -48565.126583 -11986.418570 -113.516305 -218.076997   \n",
              "3       2.318417  52665.281329 -47498.516869  177.796999 -164.846698   \n",
              "4       2.045458  12519.761269  73346.653179  201.016283 -103.291128   \n",
              "..           ...           ...           ...         ...         ...   \n",
              "665     5.311708  56847.750712 -11045.226860 -191.028177  130.498496   \n",
              "666     3.011450 -17306.501630   7138.291422   29.173735 -222.900867   \n",
              "667     2.775677 -17067.554943  61383.574631   90.890740 -237.205934   \n",
              "668     1.069408 -70156.389933  10977.295766  213.943568  117.263798   \n",
              "669     4.394689  48588.669327 -32320.905331 -202.414834  -66.561909   \n",
              "\n",
              "     UAV_1_target_x  UAV_1_target_y  UAV_2_track       UAV_2_x       UAV_2_y  \\\n",
              "0     -59569.480482    41566.912694     1.474570 -56681.475086  -5314.787648   \n",
              "1      70435.277561    33913.163359     2.492568 -53314.291038 -15227.414024   \n",
              "2     -60503.694386   -34921.687695     4.941877  66081.722767 -13048.091807   \n",
              "3      63901.656021   -57916.461362     5.084740  -8541.183540   3543.309665   \n",
              "4      61179.839038    48342.935773     4.053048 -20718.955267 -19460.116683   \n",
              "..              ...             ...          ...           ...           ...   \n",
              "665   -44528.370773    58208.595305     1.841936 -27643.755665  20748.767592   \n",
              "666    -5775.635254   -80962.875115     2.883169  16816.814742 -38368.369835   \n",
              "667    25359.264069   -49341.602006     4.529004  33094.231094  25151.090417   \n",
              "668    10678.663954    55283.490853     0.294704  28290.108911 -26555.893531   \n",
              "669   -10903.276730   -51884.182642     5.146908  87276.023862   4491.252323   \n",
              "\n",
              "     ...  UAV_4_target_x  UAV_4_target_y  UAV_5_track       UAV_5_x  \\\n",
              "0    ...   -73393.079252    42576.874951     1.607547 -80967.561432   \n",
              "1    ...    82065.359024   -23468.668544     0.954796  21679.563309   \n",
              "2    ...    60575.192521    42374.513704     4.056282 -31560.842269   \n",
              "3    ...   -52711.027260    26128.828499     2.515598  18186.463747   \n",
              "4    ...     -363.679740    78081.012167     3.672419 -32292.519289   \n",
              "..   ...             ...             ...          ...           ...   \n",
              "665  ...    -5578.486656   -17866.863099     2.415617 -71839.035376   \n",
              "666  ...   -29883.094522    15688.836209     0.588212 -48700.779519   \n",
              "667  ...   -21135.417189    57702.993531     3.857388  67932.355669   \n",
              "668  ...   -60886.252559    61825.387454     1.198816 -23684.569898   \n",
              "669  ...    65774.159084    54341.126380     4.179627  54002.459505   \n",
              "\n",
              "          UAV_5_y    UAV_5_vx    UAV_5_vy  UAV_5_target_x  UAV_5_target_y  \\\n",
              "0    37684.582412  213.175442   -7.837820    41342.567045    33187.606489   \n",
              "1   -34471.154448  208.580726  147.651921    78980.509691     6091.533217   \n",
              "2    36234.825255 -184.415246 -141.978597   -61666.394619    13057.001319   \n",
              "3    79639.001255  133.007662 -183.966901    63306.445359    17232.196700   \n",
              "4    49454.043805 -126.905053 -216.182308   -82042.302624   -35294.535772   \n",
              "..            ...         ...         ...             ...             ...   \n",
              "665  53234.537940  153.257849 -172.646763    -8773.275782   -17809.779416   \n",
              "666 -27986.596210  122.836045  184.170606    17599.761028    71419.166698   \n",
              "667  57519.449588 -140.530069 -161.592698   -16546.830756   -39621.466658   \n",
              "668 -32804.603209  225.945148   88.150897    85010.262644     9601.914598   \n",
              "669  55399.199572 -189.406275 -111.680153   -39579.593108      220.151704   \n",
              "\n",
              "     num_collisions  \n",
              "0                 3  \n",
              "1                 0  \n",
              "2                 0  \n",
              "3                 0  \n",
              "4                 0  \n",
              "..              ...  \n",
              "665               1  \n",
              "666               1  \n",
              "667               1  \n",
              "668               1  \n",
              "669               1  \n",
              "\n",
              "[670 rows x 36 columns]"
            ],
            "text/html": [
              "\n",
              "  <div id=\"df-63ddb12c-8451-48ee-a2d3-965c0fe92d55\">\n",
              "    <div class=\"colab-df-container\">\n",
              "      <div>\n",
              "<style scoped>\n",
              "    .dataframe tbody tr th:only-of-type {\n",
              "        vertical-align: middle;\n",
              "    }\n",
              "\n",
              "    .dataframe tbody tr th {\n",
              "        vertical-align: top;\n",
              "    }\n",
              "\n",
              "    .dataframe thead th {\n",
              "        text-align: right;\n",
              "    }\n",
              "</style>\n",
              "<table border=\"1\" class=\"dataframe\">\n",
              "  <thead>\n",
              "    <tr style=\"text-align: right;\">\n",
              "      <th></th>\n",
              "      <th>UAV_1_track</th>\n",
              "      <th>UAV_1_x</th>\n",
              "      <th>UAV_1_y</th>\n",
              "      <th>UAV_1_vx</th>\n",
              "      <th>UAV_1_vy</th>\n",
              "      <th>UAV_1_target_x</th>\n",
              "      <th>UAV_1_target_y</th>\n",
              "      <th>UAV_2_track</th>\n",
              "      <th>UAV_2_x</th>\n",
              "      <th>UAV_2_y</th>\n",
              "      <th>...</th>\n",
              "      <th>UAV_4_target_x</th>\n",
              "      <th>UAV_4_target_y</th>\n",
              "      <th>UAV_5_track</th>\n",
              "      <th>UAV_5_x</th>\n",
              "      <th>UAV_5_y</th>\n",
              "      <th>UAV_5_vx</th>\n",
              "      <th>UAV_5_vy</th>\n",
              "      <th>UAV_5_target_x</th>\n",
              "      <th>UAV_5_target_y</th>\n",
              "      <th>num_collisions</th>\n",
              "    </tr>\n",
              "  </thead>\n",
              "  <tbody>\n",
              "    <tr>\n",
              "      <th>0</th>\n",
              "      <td>0.027068</td>\n",
              "      <td>-62300.591721</td>\n",
              "      <td>-59305.682068</td>\n",
              "      <td>6.705684</td>\n",
              "      <td>247.671970</td>\n",
              "      <td>-59569.480482</td>\n",
              "      <td>41566.912694</td>\n",
              "      <td>1.474570</td>\n",
              "      <td>-56681.475086</td>\n",
              "      <td>-5314.787648</td>\n",
              "      <td>...</td>\n",
              "      <td>-73393.079252</td>\n",
              "      <td>42576.874951</td>\n",
              "      <td>1.607547</td>\n",
              "      <td>-80967.561432</td>\n",
              "      <td>37684.582412</td>\n",
              "      <td>213.175442</td>\n",
              "      <td>-7.837820</td>\n",
              "      <td>41342.567045</td>\n",
              "      <td>33187.606489</td>\n",
              "      <td>3</td>\n",
              "    </tr>\n",
              "    <tr>\n",
              "      <th>1</th>\n",
              "      <td>1.841994</td>\n",
              "      <td>-19900.350438</td>\n",
              "      <td>59030.833595</td>\n",
              "      <td>208.716697</td>\n",
              "      <td>-58.033328</td>\n",
              "      <td>70435.277561</td>\n",
              "      <td>33913.163359</td>\n",
              "      <td>2.492568</td>\n",
              "      <td>-53314.291038</td>\n",
              "      <td>-15227.414024</td>\n",
              "      <td>...</td>\n",
              "      <td>82065.359024</td>\n",
              "      <td>-23468.668544</td>\n",
              "      <td>0.954796</td>\n",
              "      <td>21679.563309</td>\n",
              "      <td>-34471.154448</td>\n",
              "      <td>208.580726</td>\n",
              "      <td>147.651921</td>\n",
              "      <td>78980.509691</td>\n",
              "      <td>6091.533217</td>\n",
              "      <td>0</td>\n",
              "    </tr>\n",
              "    <tr>\n",
              "      <th>2</th>\n",
              "      <td>3.621532</td>\n",
              "      <td>-48565.126583</td>\n",
              "      <td>-11986.418570</td>\n",
              "      <td>-113.516305</td>\n",
              "      <td>-218.076997</td>\n",
              "      <td>-60503.694386</td>\n",
              "      <td>-34921.687695</td>\n",
              "      <td>4.941877</td>\n",
              "      <td>66081.722767</td>\n",
              "      <td>-13048.091807</td>\n",
              "      <td>...</td>\n",
              "      <td>60575.192521</td>\n",
              "      <td>42374.513704</td>\n",
              "      <td>4.056282</td>\n",
              "      <td>-31560.842269</td>\n",
              "      <td>36234.825255</td>\n",
              "      <td>-184.415246</td>\n",
              "      <td>-141.978597</td>\n",
              "      <td>-61666.394619</td>\n",
              "      <td>13057.001319</td>\n",
              "      <td>0</td>\n",
              "    </tr>\n",
              "    <tr>\n",
              "      <th>3</th>\n",
              "      <td>2.318417</td>\n",
              "      <td>52665.281329</td>\n",
              "      <td>-47498.516869</td>\n",
              "      <td>177.796999</td>\n",
              "      <td>-164.846698</td>\n",
              "      <td>63901.656021</td>\n",
              "      <td>-57916.461362</td>\n",
              "      <td>5.084740</td>\n",
              "      <td>-8541.183540</td>\n",
              "      <td>3543.309665</td>\n",
              "      <td>...</td>\n",
              "      <td>-52711.027260</td>\n",
              "      <td>26128.828499</td>\n",
              "      <td>2.515598</td>\n",
              "      <td>18186.463747</td>\n",
              "      <td>79639.001255</td>\n",
              "      <td>133.007662</td>\n",
              "      <td>-183.966901</td>\n",
              "      <td>63306.445359</td>\n",
              "      <td>17232.196700</td>\n",
              "      <td>0</td>\n",
              "    </tr>\n",
              "    <tr>\n",
              "      <th>4</th>\n",
              "      <td>2.045458</td>\n",
              "      <td>12519.761269</td>\n",
              "      <td>73346.653179</td>\n",
              "      <td>201.016283</td>\n",
              "      <td>-103.291128</td>\n",
              "      <td>61179.839038</td>\n",
              "      <td>48342.935773</td>\n",
              "      <td>4.053048</td>\n",
              "      <td>-20718.955267</td>\n",
              "      <td>-19460.116683</td>\n",
              "      <td>...</td>\n",
              "      <td>-363.679740</td>\n",
              "      <td>78081.012167</td>\n",
              "      <td>3.672419</td>\n",
              "      <td>-32292.519289</td>\n",
              "      <td>49454.043805</td>\n",
              "      <td>-126.905053</td>\n",
              "      <td>-216.182308</td>\n",
              "      <td>-82042.302624</td>\n",
              "      <td>-35294.535772</td>\n",
              "      <td>0</td>\n",
              "    </tr>\n",
              "    <tr>\n",
              "      <th>...</th>\n",
              "      <td>...</td>\n",
              "      <td>...</td>\n",
              "      <td>...</td>\n",
              "      <td>...</td>\n",
              "      <td>...</td>\n",
              "      <td>...</td>\n",
              "      <td>...</td>\n",
              "      <td>...</td>\n",
              "      <td>...</td>\n",
              "      <td>...</td>\n",
              "      <td>...</td>\n",
              "      <td>...</td>\n",
              "      <td>...</td>\n",
              "      <td>...</td>\n",
              "      <td>...</td>\n",
              "      <td>...</td>\n",
              "      <td>...</td>\n",
              "      <td>...</td>\n",
              "      <td>...</td>\n",
              "      <td>...</td>\n",
              "      <td>...</td>\n",
              "    </tr>\n",
              "    <tr>\n",
              "      <th>665</th>\n",
              "      <td>5.311708</td>\n",
              "      <td>56847.750712</td>\n",
              "      <td>-11045.226860</td>\n",
              "      <td>-191.028177</td>\n",
              "      <td>130.498496</td>\n",
              "      <td>-44528.370773</td>\n",
              "      <td>58208.595305</td>\n",
              "      <td>1.841936</td>\n",
              "      <td>-27643.755665</td>\n",
              "      <td>20748.767592</td>\n",
              "      <td>...</td>\n",
              "      <td>-5578.486656</td>\n",
              "      <td>-17866.863099</td>\n",
              "      <td>2.415617</td>\n",
              "      <td>-71839.035376</td>\n",
              "      <td>53234.537940</td>\n",
              "      <td>153.257849</td>\n",
              "      <td>-172.646763</td>\n",
              "      <td>-8773.275782</td>\n",
              "      <td>-17809.779416</td>\n",
              "      <td>1</td>\n",
              "    </tr>\n",
              "    <tr>\n",
              "      <th>666</th>\n",
              "      <td>3.011450</td>\n",
              "      <td>-17306.501630</td>\n",
              "      <td>7138.291422</td>\n",
              "      <td>29.173735</td>\n",
              "      <td>-222.900867</td>\n",
              "      <td>-5775.635254</td>\n",
              "      <td>-80962.875115</td>\n",
              "      <td>2.883169</td>\n",
              "      <td>16816.814742</td>\n",
              "      <td>-38368.369835</td>\n",
              "      <td>...</td>\n",
              "      <td>-29883.094522</td>\n",
              "      <td>15688.836209</td>\n",
              "      <td>0.588212</td>\n",
              "      <td>-48700.779519</td>\n",
              "      <td>-27986.596210</td>\n",
              "      <td>122.836045</td>\n",
              "      <td>184.170606</td>\n",
              "      <td>17599.761028</td>\n",
              "      <td>71419.166698</td>\n",
              "      <td>1</td>\n",
              "    </tr>\n",
              "    <tr>\n",
              "      <th>667</th>\n",
              "      <td>2.775677</td>\n",
              "      <td>-17067.554943</td>\n",
              "      <td>61383.574631</td>\n",
              "      <td>90.890740</td>\n",
              "      <td>-237.205934</td>\n",
              "      <td>25359.264069</td>\n",
              "      <td>-49341.602006</td>\n",
              "      <td>4.529004</td>\n",
              "      <td>33094.231094</td>\n",
              "      <td>25151.090417</td>\n",
              "      <td>...</td>\n",
              "      <td>-21135.417189</td>\n",
              "      <td>57702.993531</td>\n",
              "      <td>3.857388</td>\n",
              "      <td>67932.355669</td>\n",
              "      <td>57519.449588</td>\n",
              "      <td>-140.530069</td>\n",
              "      <td>-161.592698</td>\n",
              "      <td>-16546.830756</td>\n",
              "      <td>-39621.466658</td>\n",
              "      <td>1</td>\n",
              "    </tr>\n",
              "    <tr>\n",
              "      <th>668</th>\n",
              "      <td>1.069408</td>\n",
              "      <td>-70156.389933</td>\n",
              "      <td>10977.295766</td>\n",
              "      <td>213.943568</td>\n",
              "      <td>117.263798</td>\n",
              "      <td>10678.663954</td>\n",
              "      <td>55283.490853</td>\n",
              "      <td>0.294704</td>\n",
              "      <td>28290.108911</td>\n",
              "      <td>-26555.893531</td>\n",
              "      <td>...</td>\n",
              "      <td>-60886.252559</td>\n",
              "      <td>61825.387454</td>\n",
              "      <td>1.198816</td>\n",
              "      <td>-23684.569898</td>\n",
              "      <td>-32804.603209</td>\n",
              "      <td>225.945148</td>\n",
              "      <td>88.150897</td>\n",
              "      <td>85010.262644</td>\n",
              "      <td>9601.914598</td>\n",
              "      <td>1</td>\n",
              "    </tr>\n",
              "    <tr>\n",
              "      <th>669</th>\n",
              "      <td>4.394689</td>\n",
              "      <td>48588.669327</td>\n",
              "      <td>-32320.905331</td>\n",
              "      <td>-202.414834</td>\n",
              "      <td>-66.561909</td>\n",
              "      <td>-10903.276730</td>\n",
              "      <td>-51884.182642</td>\n",
              "      <td>5.146908</td>\n",
              "      <td>87276.023862</td>\n",
              "      <td>4491.252323</td>\n",
              "      <td>...</td>\n",
              "      <td>65774.159084</td>\n",
              "      <td>54341.126380</td>\n",
              "      <td>4.179627</td>\n",
              "      <td>54002.459505</td>\n",
              "      <td>55399.199572</td>\n",
              "      <td>-189.406275</td>\n",
              "      <td>-111.680153</td>\n",
              "      <td>-39579.593108</td>\n",
              "      <td>220.151704</td>\n",
              "      <td>1</td>\n",
              "    </tr>\n",
              "  </tbody>\n",
              "</table>\n",
              "<p>670 rows × 36 columns</p>\n",
              "</div>\n",
              "      <button class=\"colab-df-convert\" onclick=\"convertToInteractive('df-63ddb12c-8451-48ee-a2d3-965c0fe92d55')\"\n",
              "              title=\"Convert this dataframe to an interactive table.\"\n",
              "              style=\"display:none;\">\n",
              "        \n",
              "  <svg xmlns=\"http://www.w3.org/2000/svg\" height=\"24px\"viewBox=\"0 0 24 24\"\n",
              "       width=\"24px\">\n",
              "    <path d=\"M0 0h24v24H0V0z\" fill=\"none\"/>\n",
              "    <path d=\"M18.56 5.44l.94 2.06.94-2.06 2.06-.94-2.06-.94-.94-2.06-.94 2.06-2.06.94zm-11 1L8.5 8.5l.94-2.06 2.06-.94-2.06-.94L8.5 2.5l-.94 2.06-2.06.94zm10 10l.94 2.06.94-2.06 2.06-.94-2.06-.94-.94-2.06-.94 2.06-2.06.94z\"/><path d=\"M17.41 7.96l-1.37-1.37c-.4-.4-.92-.59-1.43-.59-.52 0-1.04.2-1.43.59L10.3 9.45l-7.72 7.72c-.78.78-.78 2.05 0 2.83L4 21.41c.39.39.9.59 1.41.59.51 0 1.02-.2 1.41-.59l7.78-7.78 2.81-2.81c.8-.78.8-2.07 0-2.86zM5.41 20L4 18.59l7.72-7.72 1.47 1.35L5.41 20z\"/>\n",
              "  </svg>\n",
              "      </button>\n",
              "      \n",
              "  <style>\n",
              "    .colab-df-container {\n",
              "      display:flex;\n",
              "      flex-wrap:wrap;\n",
              "      gap: 12px;\n",
              "    }\n",
              "\n",
              "    .colab-df-convert {\n",
              "      background-color: #E8F0FE;\n",
              "      border: none;\n",
              "      border-radius: 50%;\n",
              "      cursor: pointer;\n",
              "      display: none;\n",
              "      fill: #1967D2;\n",
              "      height: 32px;\n",
              "      padding: 0 0 0 0;\n",
              "      width: 32px;\n",
              "    }\n",
              "\n",
              "    .colab-df-convert:hover {\n",
              "      background-color: #E2EBFA;\n",
              "      box-shadow: 0px 1px 2px rgba(60, 64, 67, 0.3), 0px 1px 3px 1px rgba(60, 64, 67, 0.15);\n",
              "      fill: #174EA6;\n",
              "    }\n",
              "\n",
              "    [theme=dark] .colab-df-convert {\n",
              "      background-color: #3B4455;\n",
              "      fill: #D2E3FC;\n",
              "    }\n",
              "\n",
              "    [theme=dark] .colab-df-convert:hover {\n",
              "      background-color: #434B5C;\n",
              "      box-shadow: 0px 1px 3px 1px rgba(0, 0, 0, 0.15);\n",
              "      filter: drop-shadow(0px 1px 2px rgba(0, 0, 0, 0.3));\n",
              "      fill: #FFFFFF;\n",
              "    }\n",
              "  </style>\n",
              "\n",
              "      <script>\n",
              "        const buttonEl =\n",
              "          document.querySelector('#df-63ddb12c-8451-48ee-a2d3-965c0fe92d55 button.colab-df-convert');\n",
              "        buttonEl.style.display =\n",
              "          google.colab.kernel.accessAllowed ? 'block' : 'none';\n",
              "\n",
              "        async function convertToInteractive(key) {\n",
              "          const element = document.querySelector('#df-63ddb12c-8451-48ee-a2d3-965c0fe92d55');\n",
              "          const dataTable =\n",
              "            await google.colab.kernel.invokeFunction('convertToInteractive',\n",
              "                                                     [key], {});\n",
              "          if (!dataTable) return;\n",
              "\n",
              "          const docLinkHtml = 'Like what you see? Visit the ' +\n",
              "            '<a target=\"_blank\" href=https://colab.research.google.com/notebooks/data_table.ipynb>data table notebook</a>'\n",
              "            + ' to learn more about interactive tables.';\n",
              "          element.innerHTML = '';\n",
              "          dataTable['output_type'] = 'display_data';\n",
              "          await google.colab.output.renderOutput(dataTable, element);\n",
              "          const docLink = document.createElement('div');\n",
              "          docLink.innerHTML = docLinkHtml;\n",
              "          element.appendChild(docLink);\n",
              "        }\n",
              "      </script>\n",
              "    </div>\n",
              "  </div>\n",
              "  "
            ]
          },
          "metadata": {},
          "execution_count": 22
        }
      ]
    },
    {
      "cell_type": "code",
      "source": [
        "df_clf_test.reset_index(inplace=True)\n",
        "df_clf_test.drop('index', axis='columns', inplace=True)\n",
        "df_clf_test"
      ],
      "metadata": {
        "colab": {
          "base_uri": "https://localhost:8080/",
          "height": 488
        },
        "id": "fDYjHgTWRDv6",
        "outputId": "f1beacb8-2590-4d89-bd75-4225bd88fb62"
      },
      "execution_count": 23,
      "outputs": [
        {
          "output_type": "execute_result",
          "data": {
            "text/plain": [
              "     UAV_1_track       UAV_1_x       UAV_1_y    UAV_1_vx    UAV_1_vy  \\\n",
              "0       3.222676 -30502.269226   6617.616493  -20.639472 -253.986884   \n",
              "1       0.248296  -1462.002227  15199.287399   62.265632  245.596955   \n",
              "2       2.622285 -80114.427253  13705.329745  126.522658 -221.331617   \n",
              "3       0.116277 -20507.371826 -38839.985708   29.604857  253.457291   \n",
              "4       2.501960 -39242.723920  29617.982277  139.945695 -188.105726   \n",
              "..           ...           ...           ...         ...         ...   \n",
              "325     2.970409 -35222.365570  75522.014012   40.286500 -233.037428   \n",
              "326     5.271096  55967.531561   8410.382993 -198.496041  124.089786   \n",
              "327     2.371730 -42851.921281  22331.902642  149.916117 -154.647952   \n",
              "328     6.168006  57121.710959 -20012.508497  -25.702473  222.164795   \n",
              "329     0.094812 -40109.893787 -22743.281748   20.247344  212.912610   \n",
              "\n",
              "     UAV_1_target_x  UAV_1_target_y  UAV_2_track       UAV_2_x       UAV_2_y  \\\n",
              "0     -34265.587654   -39693.332320     3.098056 -15480.193643  75373.230174   \n",
              "1      13739.666748    75159.870908     5.755060  53140.492378 -20925.219214   \n",
              "2     -42590.866863   -51936.274935     4.304132  25230.009845  44061.740107   \n",
              "3      -9178.226328    58152.696593     4.026086  58131.175585 -37988.879989   \n",
              "4      21547.894445   -52092.737062     4.054930  18938.451562 -26163.827845   \n",
              "..              ...             ...          ...           ...           ...   \n",
              "325   -12303.414548   -57052.753549     3.597839  57110.637733  65088.308236   \n",
              "326   -22291.447059    57333.978083     3.294063   3823.763577  57107.060365   \n",
              "327    37796.245820   -60861.779906     0.768575  13825.088381  42553.996922   \n",
              "328    48438.118603    55045.968958     1.840342 -53240.551406  -9147.489939   \n",
              "329   -36965.348736    10323.440793     0.407943  24343.721963 -84685.511193   \n",
              "\n",
              "     ...  UAV_4_target_x  UAV_4_target_y  UAV_5_track       UAV_5_x  \\\n",
              "0    ...    21327.674091   -79131.979194     3.071384  24599.768766   \n",
              "1    ...    60730.489352    23886.471996     4.066435  25857.211789   \n",
              "2    ...   -94121.780791    21308.934191     4.947006  65439.000408   \n",
              "3    ...    25547.100462   -83280.813482     2.227663 -44856.234870   \n",
              "4    ...    -1702.316837    36437.491500     5.273941  71064.331832   \n",
              "..   ...             ...             ...          ...           ...   \n",
              "325  ...    15189.112978    75698.285534     1.091081 -42271.942781   \n",
              "326  ...    34022.208607    62058.007050     0.136651  64411.729626   \n",
              "327  ...    19900.703447   -57156.739129     4.012111  57841.745713   \n",
              "328  ...   -36579.578129   -21948.140976     1.821164 -67300.239619   \n",
              "329  ...    42538.465208    49852.786379     2.734617  -3399.480308   \n",
              "\n",
              "          UAV_5_y    UAV_5_vx    UAV_5_vy  UAV_5_target_x  UAV_5_target_y  \\\n",
              "0    26659.404349   17.888980 -254.380030    31878.402011   -76842.242915   \n",
              "1    57718.254494 -176.789948 -133.271289   -63143.390921    -9373.936754   \n",
              "2    -9214.520635 -229.775839   54.920764   -85704.953300    26911.738134   \n",
              "3    19376.830917  182.320918 -140.586975    61301.107786   -62480.696911   \n",
              "4    -2620.205707 -187.004793  117.647331    25897.341573    25794.979741   \n",
              "..            ...         ...         ...             ...             ...   \n",
              "325   2814.146497  223.376068  116.211241    56383.580408    54139.612483   \n",
              "326 -37437.172297   34.752244  252.729034    73501.674318    28667.708142   \n",
              "327  72957.996227 -189.817747 -159.971564   -40533.042008    -9948.733596   \n",
              "328  37389.564533  219.925384  -56.242303    84462.130880    -1421.167980   \n",
              "329  16329.080194   99.426678 -230.666820    37003.386549   -77404.321914   \n",
              "\n",
              "     num_collisions  \n",
              "0                 0  \n",
              "1                 2  \n",
              "2                 1  \n",
              "3                 1  \n",
              "4                 0  \n",
              "..              ...  \n",
              "325               1  \n",
              "326               1  \n",
              "327               2  \n",
              "328               1  \n",
              "329               0  \n",
              "\n",
              "[330 rows x 36 columns]"
            ],
            "text/html": [
              "\n",
              "  <div id=\"df-df39a3bc-7684-4f8f-a9b8-fd74dace8bc7\">\n",
              "    <div class=\"colab-df-container\">\n",
              "      <div>\n",
              "<style scoped>\n",
              "    .dataframe tbody tr th:only-of-type {\n",
              "        vertical-align: middle;\n",
              "    }\n",
              "\n",
              "    .dataframe tbody tr th {\n",
              "        vertical-align: top;\n",
              "    }\n",
              "\n",
              "    .dataframe thead th {\n",
              "        text-align: right;\n",
              "    }\n",
              "</style>\n",
              "<table border=\"1\" class=\"dataframe\">\n",
              "  <thead>\n",
              "    <tr style=\"text-align: right;\">\n",
              "      <th></th>\n",
              "      <th>UAV_1_track</th>\n",
              "      <th>UAV_1_x</th>\n",
              "      <th>UAV_1_y</th>\n",
              "      <th>UAV_1_vx</th>\n",
              "      <th>UAV_1_vy</th>\n",
              "      <th>UAV_1_target_x</th>\n",
              "      <th>UAV_1_target_y</th>\n",
              "      <th>UAV_2_track</th>\n",
              "      <th>UAV_2_x</th>\n",
              "      <th>UAV_2_y</th>\n",
              "      <th>...</th>\n",
              "      <th>UAV_4_target_x</th>\n",
              "      <th>UAV_4_target_y</th>\n",
              "      <th>UAV_5_track</th>\n",
              "      <th>UAV_5_x</th>\n",
              "      <th>UAV_5_y</th>\n",
              "      <th>UAV_5_vx</th>\n",
              "      <th>UAV_5_vy</th>\n",
              "      <th>UAV_5_target_x</th>\n",
              "      <th>UAV_5_target_y</th>\n",
              "      <th>num_collisions</th>\n",
              "    </tr>\n",
              "  </thead>\n",
              "  <tbody>\n",
              "    <tr>\n",
              "      <th>0</th>\n",
              "      <td>3.222676</td>\n",
              "      <td>-30502.269226</td>\n",
              "      <td>6617.616493</td>\n",
              "      <td>-20.639472</td>\n",
              "      <td>-253.986884</td>\n",
              "      <td>-34265.587654</td>\n",
              "      <td>-39693.332320</td>\n",
              "      <td>3.098056</td>\n",
              "      <td>-15480.193643</td>\n",
              "      <td>75373.230174</td>\n",
              "      <td>...</td>\n",
              "      <td>21327.674091</td>\n",
              "      <td>-79131.979194</td>\n",
              "      <td>3.071384</td>\n",
              "      <td>24599.768766</td>\n",
              "      <td>26659.404349</td>\n",
              "      <td>17.888980</td>\n",
              "      <td>-254.380030</td>\n",
              "      <td>31878.402011</td>\n",
              "      <td>-76842.242915</td>\n",
              "      <td>0</td>\n",
              "    </tr>\n",
              "    <tr>\n",
              "      <th>1</th>\n",
              "      <td>0.248296</td>\n",
              "      <td>-1462.002227</td>\n",
              "      <td>15199.287399</td>\n",
              "      <td>62.265632</td>\n",
              "      <td>245.596955</td>\n",
              "      <td>13739.666748</td>\n",
              "      <td>75159.870908</td>\n",
              "      <td>5.755060</td>\n",
              "      <td>53140.492378</td>\n",
              "      <td>-20925.219214</td>\n",
              "      <td>...</td>\n",
              "      <td>60730.489352</td>\n",
              "      <td>23886.471996</td>\n",
              "      <td>4.066435</td>\n",
              "      <td>25857.211789</td>\n",
              "      <td>57718.254494</td>\n",
              "      <td>-176.789948</td>\n",
              "      <td>-133.271289</td>\n",
              "      <td>-63143.390921</td>\n",
              "      <td>-9373.936754</td>\n",
              "      <td>2</td>\n",
              "    </tr>\n",
              "    <tr>\n",
              "      <th>2</th>\n",
              "      <td>2.622285</td>\n",
              "      <td>-80114.427253</td>\n",
              "      <td>13705.329745</td>\n",
              "      <td>126.522658</td>\n",
              "      <td>-221.331617</td>\n",
              "      <td>-42590.866863</td>\n",
              "      <td>-51936.274935</td>\n",
              "      <td>4.304132</td>\n",
              "      <td>25230.009845</td>\n",
              "      <td>44061.740107</td>\n",
              "      <td>...</td>\n",
              "      <td>-94121.780791</td>\n",
              "      <td>21308.934191</td>\n",
              "      <td>4.947006</td>\n",
              "      <td>65439.000408</td>\n",
              "      <td>-9214.520635</td>\n",
              "      <td>-229.775839</td>\n",
              "      <td>54.920764</td>\n",
              "      <td>-85704.953300</td>\n",
              "      <td>26911.738134</td>\n",
              "      <td>1</td>\n",
              "    </tr>\n",
              "    <tr>\n",
              "      <th>3</th>\n",
              "      <td>0.116277</td>\n",
              "      <td>-20507.371826</td>\n",
              "      <td>-38839.985708</td>\n",
              "      <td>29.604857</td>\n",
              "      <td>253.457291</td>\n",
              "      <td>-9178.226328</td>\n",
              "      <td>58152.696593</td>\n",
              "      <td>4.026086</td>\n",
              "      <td>58131.175585</td>\n",
              "      <td>-37988.879989</td>\n",
              "      <td>...</td>\n",
              "      <td>25547.100462</td>\n",
              "      <td>-83280.813482</td>\n",
              "      <td>2.227663</td>\n",
              "      <td>-44856.234870</td>\n",
              "      <td>19376.830917</td>\n",
              "      <td>182.320918</td>\n",
              "      <td>-140.586975</td>\n",
              "      <td>61301.107786</td>\n",
              "      <td>-62480.696911</td>\n",
              "      <td>1</td>\n",
              "    </tr>\n",
              "    <tr>\n",
              "      <th>4</th>\n",
              "      <td>2.501960</td>\n",
              "      <td>-39242.723920</td>\n",
              "      <td>29617.982277</td>\n",
              "      <td>139.945695</td>\n",
              "      <td>-188.105726</td>\n",
              "      <td>21547.894445</td>\n",
              "      <td>-52092.737062</td>\n",
              "      <td>4.054930</td>\n",
              "      <td>18938.451562</td>\n",
              "      <td>-26163.827845</td>\n",
              "      <td>...</td>\n",
              "      <td>-1702.316837</td>\n",
              "      <td>36437.491500</td>\n",
              "      <td>5.273941</td>\n",
              "      <td>71064.331832</td>\n",
              "      <td>-2620.205707</td>\n",
              "      <td>-187.004793</td>\n",
              "      <td>117.647331</td>\n",
              "      <td>25897.341573</td>\n",
              "      <td>25794.979741</td>\n",
              "      <td>0</td>\n",
              "    </tr>\n",
              "    <tr>\n",
              "      <th>...</th>\n",
              "      <td>...</td>\n",
              "      <td>...</td>\n",
              "      <td>...</td>\n",
              "      <td>...</td>\n",
              "      <td>...</td>\n",
              "      <td>...</td>\n",
              "      <td>...</td>\n",
              "      <td>...</td>\n",
              "      <td>...</td>\n",
              "      <td>...</td>\n",
              "      <td>...</td>\n",
              "      <td>...</td>\n",
              "      <td>...</td>\n",
              "      <td>...</td>\n",
              "      <td>...</td>\n",
              "      <td>...</td>\n",
              "      <td>...</td>\n",
              "      <td>...</td>\n",
              "      <td>...</td>\n",
              "      <td>...</td>\n",
              "      <td>...</td>\n",
              "    </tr>\n",
              "    <tr>\n",
              "      <th>325</th>\n",
              "      <td>2.970409</td>\n",
              "      <td>-35222.365570</td>\n",
              "      <td>75522.014012</td>\n",
              "      <td>40.286500</td>\n",
              "      <td>-233.037428</td>\n",
              "      <td>-12303.414548</td>\n",
              "      <td>-57052.753549</td>\n",
              "      <td>3.597839</td>\n",
              "      <td>57110.637733</td>\n",
              "      <td>65088.308236</td>\n",
              "      <td>...</td>\n",
              "      <td>15189.112978</td>\n",
              "      <td>75698.285534</td>\n",
              "      <td>1.091081</td>\n",
              "      <td>-42271.942781</td>\n",
              "      <td>2814.146497</td>\n",
              "      <td>223.376068</td>\n",
              "      <td>116.211241</td>\n",
              "      <td>56383.580408</td>\n",
              "      <td>54139.612483</td>\n",
              "      <td>1</td>\n",
              "    </tr>\n",
              "    <tr>\n",
              "      <th>326</th>\n",
              "      <td>5.271096</td>\n",
              "      <td>55967.531561</td>\n",
              "      <td>8410.382993</td>\n",
              "      <td>-198.496041</td>\n",
              "      <td>124.089786</td>\n",
              "      <td>-22291.447059</td>\n",
              "      <td>57333.978083</td>\n",
              "      <td>3.294063</td>\n",
              "      <td>3823.763577</td>\n",
              "      <td>57107.060365</td>\n",
              "      <td>...</td>\n",
              "      <td>34022.208607</td>\n",
              "      <td>62058.007050</td>\n",
              "      <td>0.136651</td>\n",
              "      <td>64411.729626</td>\n",
              "      <td>-37437.172297</td>\n",
              "      <td>34.752244</td>\n",
              "      <td>252.729034</td>\n",
              "      <td>73501.674318</td>\n",
              "      <td>28667.708142</td>\n",
              "      <td>1</td>\n",
              "    </tr>\n",
              "    <tr>\n",
              "      <th>327</th>\n",
              "      <td>2.371730</td>\n",
              "      <td>-42851.921281</td>\n",
              "      <td>22331.902642</td>\n",
              "      <td>149.916117</td>\n",
              "      <td>-154.647952</td>\n",
              "      <td>37796.245820</td>\n",
              "      <td>-60861.779906</td>\n",
              "      <td>0.768575</td>\n",
              "      <td>13825.088381</td>\n",
              "      <td>42553.996922</td>\n",
              "      <td>...</td>\n",
              "      <td>19900.703447</td>\n",
              "      <td>-57156.739129</td>\n",
              "      <td>4.012111</td>\n",
              "      <td>57841.745713</td>\n",
              "      <td>72957.996227</td>\n",
              "      <td>-189.817747</td>\n",
              "      <td>-159.971564</td>\n",
              "      <td>-40533.042008</td>\n",
              "      <td>-9948.733596</td>\n",
              "      <td>2</td>\n",
              "    </tr>\n",
              "    <tr>\n",
              "      <th>328</th>\n",
              "      <td>6.168006</td>\n",
              "      <td>57121.710959</td>\n",
              "      <td>-20012.508497</td>\n",
              "      <td>-25.702473</td>\n",
              "      <td>222.164795</td>\n",
              "      <td>48438.118603</td>\n",
              "      <td>55045.968958</td>\n",
              "      <td>1.840342</td>\n",
              "      <td>-53240.551406</td>\n",
              "      <td>-9147.489939</td>\n",
              "      <td>...</td>\n",
              "      <td>-36579.578129</td>\n",
              "      <td>-21948.140976</td>\n",
              "      <td>1.821164</td>\n",
              "      <td>-67300.239619</td>\n",
              "      <td>37389.564533</td>\n",
              "      <td>219.925384</td>\n",
              "      <td>-56.242303</td>\n",
              "      <td>84462.130880</td>\n",
              "      <td>-1421.167980</td>\n",
              "      <td>1</td>\n",
              "    </tr>\n",
              "    <tr>\n",
              "      <th>329</th>\n",
              "      <td>0.094812</td>\n",
              "      <td>-40109.893787</td>\n",
              "      <td>-22743.281748</td>\n",
              "      <td>20.247344</td>\n",
              "      <td>212.912610</td>\n",
              "      <td>-36965.348736</td>\n",
              "      <td>10323.440793</td>\n",
              "      <td>0.407943</td>\n",
              "      <td>24343.721963</td>\n",
              "      <td>-84685.511193</td>\n",
              "      <td>...</td>\n",
              "      <td>42538.465208</td>\n",
              "      <td>49852.786379</td>\n",
              "      <td>2.734617</td>\n",
              "      <td>-3399.480308</td>\n",
              "      <td>16329.080194</td>\n",
              "      <td>99.426678</td>\n",
              "      <td>-230.666820</td>\n",
              "      <td>37003.386549</td>\n",
              "      <td>-77404.321914</td>\n",
              "      <td>0</td>\n",
              "    </tr>\n",
              "  </tbody>\n",
              "</table>\n",
              "<p>330 rows × 36 columns</p>\n",
              "</div>\n",
              "      <button class=\"colab-df-convert\" onclick=\"convertToInteractive('df-df39a3bc-7684-4f8f-a9b8-fd74dace8bc7')\"\n",
              "              title=\"Convert this dataframe to an interactive table.\"\n",
              "              style=\"display:none;\">\n",
              "        \n",
              "  <svg xmlns=\"http://www.w3.org/2000/svg\" height=\"24px\"viewBox=\"0 0 24 24\"\n",
              "       width=\"24px\">\n",
              "    <path d=\"M0 0h24v24H0V0z\" fill=\"none\"/>\n",
              "    <path d=\"M18.56 5.44l.94 2.06.94-2.06 2.06-.94-2.06-.94-.94-2.06-.94 2.06-2.06.94zm-11 1L8.5 8.5l.94-2.06 2.06-.94-2.06-.94L8.5 2.5l-.94 2.06-2.06.94zm10 10l.94 2.06.94-2.06 2.06-.94-2.06-.94-.94-2.06-.94 2.06-2.06.94z\"/><path d=\"M17.41 7.96l-1.37-1.37c-.4-.4-.92-.59-1.43-.59-.52 0-1.04.2-1.43.59L10.3 9.45l-7.72 7.72c-.78.78-.78 2.05 0 2.83L4 21.41c.39.39.9.59 1.41.59.51 0 1.02-.2 1.41-.59l7.78-7.78 2.81-2.81c.8-.78.8-2.07 0-2.86zM5.41 20L4 18.59l7.72-7.72 1.47 1.35L5.41 20z\"/>\n",
              "  </svg>\n",
              "      </button>\n",
              "      \n",
              "  <style>\n",
              "    .colab-df-container {\n",
              "      display:flex;\n",
              "      flex-wrap:wrap;\n",
              "      gap: 12px;\n",
              "    }\n",
              "\n",
              "    .colab-df-convert {\n",
              "      background-color: #E8F0FE;\n",
              "      border: none;\n",
              "      border-radius: 50%;\n",
              "      cursor: pointer;\n",
              "      display: none;\n",
              "      fill: #1967D2;\n",
              "      height: 32px;\n",
              "      padding: 0 0 0 0;\n",
              "      width: 32px;\n",
              "    }\n",
              "\n",
              "    .colab-df-convert:hover {\n",
              "      background-color: #E2EBFA;\n",
              "      box-shadow: 0px 1px 2px rgba(60, 64, 67, 0.3), 0px 1px 3px 1px rgba(60, 64, 67, 0.15);\n",
              "      fill: #174EA6;\n",
              "    }\n",
              "\n",
              "    [theme=dark] .colab-df-convert {\n",
              "      background-color: #3B4455;\n",
              "      fill: #D2E3FC;\n",
              "    }\n",
              "\n",
              "    [theme=dark] .colab-df-convert:hover {\n",
              "      background-color: #434B5C;\n",
              "      box-shadow: 0px 1px 3px 1px rgba(0, 0, 0, 0.15);\n",
              "      filter: drop-shadow(0px 1px 2px rgba(0, 0, 0, 0.3));\n",
              "      fill: #FFFFFF;\n",
              "    }\n",
              "  </style>\n",
              "\n",
              "      <script>\n",
              "        const buttonEl =\n",
              "          document.querySelector('#df-df39a3bc-7684-4f8f-a9b8-fd74dace8bc7 button.colab-df-convert');\n",
              "        buttonEl.style.display =\n",
              "          google.colab.kernel.accessAllowed ? 'block' : 'none';\n",
              "\n",
              "        async function convertToInteractive(key) {\n",
              "          const element = document.querySelector('#df-df39a3bc-7684-4f8f-a9b8-fd74dace8bc7');\n",
              "          const dataTable =\n",
              "            await google.colab.kernel.invokeFunction('convertToInteractive',\n",
              "                                                     [key], {});\n",
              "          if (!dataTable) return;\n",
              "\n",
              "          const docLinkHtml = 'Like what you see? Visit the ' +\n",
              "            '<a target=\"_blank\" href=https://colab.research.google.com/notebooks/data_table.ipynb>data table notebook</a>'\n",
              "            + ' to learn more about interactive tables.';\n",
              "          element.innerHTML = '';\n",
              "          dataTable['output_type'] = 'display_data';\n",
              "          await google.colab.output.renderOutput(dataTable, element);\n",
              "          const docLink = document.createElement('div');\n",
              "          docLink.innerHTML = docLinkHtml;\n",
              "          element.appendChild(docLink);\n",
              "        }\n",
              "      </script>\n",
              "    </div>\n",
              "  </div>\n",
              "  "
            ]
          },
          "metadata": {},
          "execution_count": 23
        }
      ]
    },
    {
      "cell_type": "code",
      "source": [
        "# PREPROCESSING: NORMALIZE --> fit the scaler before split sub-data\n",
        "from sklearn.preprocessing import StandardScaler\n",
        "scaler = StandardScaler().fit(df_clf_train.loc[:, df_clf_train.columns != 'num_collisions'])\n"
      ],
      "metadata": {
        "id": "q-3bUR5JSHIu"
      },
      "execution_count": 24,
      "outputs": []
    },
    {
      "cell_type": "code",
      "execution_count": 25,
      "metadata": {
        "id": "0vG0H_qs8TqK",
        "colab": {
          "base_uri": "https://localhost:8080/",
          "height": 317
        },
        "outputId": "959ba762-3300-4c82-92fc-9ac1a9481dc9"
      },
      "outputs": [
        {
          "output_type": "execute_result",
          "data": {
            "text/plain": [
              "0    359\n",
              "1    311\n",
              "Name: num_collisions, dtype: int64"
            ]
          },
          "metadata": {},
          "execution_count": 25
        },
        {
          "output_type": "display_data",
          "data": {
            "text/plain": [
              "<Figure size 432x288 with 1 Axes>"
            ],
            "image/png": "[encoded data removed]"
          },
          "metadata": {
            "needs_background": "light"
          }
        }
      ],
      "source": [
        "\n",
        "# PREPROCESSING: separete data\n",
        "df_collision = df_clf_train.loc[df_clf['num_collisions'] != 0]\n",
        "\n",
        "# transform num_collisions in bynary feature\n",
        "for i in range(len(df_clf_train)):\n",
        "  val = 1 if df_clf_train.at[i, 'num_collisions']>0 else 0\n",
        "  df_clf_train.at[i, 'num_collisions'] = val\n",
        "\n",
        "# ORIGINALDISTRIB OF BINARY CLASS\n",
        "df_clf_train['num_collisions'].plot.hist() \n",
        "df_clf_train['num_collisions'].value_counts()"
      ]
    },
    {
      "cell_type": "code",
      "source": [
        "# ORIGINAL DISTRIB OF MULTICLASS\n",
        "df_collision['num_collisions'].plot.hist()\n",
        "df_collision['num_collisions'].value_counts()"
      ],
      "metadata": {
        "colab": {
          "base_uri": "https://localhost:8080/",
          "height": 369
        },
        "id": "RGkySmXNfYP2",
        "outputId": "0c6edc0e-47df-4ee5-b99a-2a33dd7bc36e"
      },
      "execution_count": 26,
      "outputs": [
        {
          "output_type": "execute_result",
          "data": {
            "text/plain": [
              "0    165\n",
              "1    107\n",
              "2     32\n",
              "3      7\n",
              "4      1\n",
              "Name: num_collisions, dtype: int64"
            ]
          },
          "metadata": {},
          "execution_count": 26
        },
        {
          "output_type": "display_data",
          "data": {
            "text/plain": [
              "<Figure size 432x288 with 1 Axes>"
            ],
            "image/png": "[encoded data removed]"
          },
          "metadata": {
            "needs_background": "light"
          }
        }
      ]
    },
    {
      "cell_type": "code",
      "source": [
        "# remove sample by binary dataset, insert in multiclass sample\n",
        "for i in range(0, 300, 5): \n",
        "  if df_clf_train.at[i, 'num_collisions'] == 0:\n",
        "    df_collision = df_collision.append(df_clf_train.loc[i])\n",
        "    df_clf_train.drop(i, inplace=True)\n",
        "\n",
        "# RE-SAMPLE DISTRIB OF BINARY DATASET\n",
        "df_clf_train['num_collisions'].plot.hist()\n",
        "df_clf_train['num_collisions'].value_counts()"
      ],
      "metadata": {
        "colab": {
          "base_uri": "https://localhost:8080/",
          "height": 317
        },
        "id": "Kk5RH-AHebIo",
        "outputId": "d57db682-a289-4a56-a50b-accdab2c9c09"
      },
      "execution_count": 27,
      "outputs": [
        {
          "output_type": "execute_result",
          "data": {
            "text/plain": [
              "0    325\n",
              "1    311\n",
              "Name: num_collisions, dtype: int64"
            ]
          },
          "metadata": {},
          "execution_count": 27
        },
        {
          "output_type": "display_data",
          "data": {
            "text/plain": [
              "<Figure size 432x288 with 1 Axes>"
            ],
            "image/png": "[encoded data removed]"
          },
          "metadata": {
            "needs_background": "light"
          }
        }
      ]
    },
    {
      "cell_type": "code",
      "source": [
        "# RE-SAMPLE DISTRIB OF multicalss DATASET\n",
        "\n",
        "df_collision['num_collisions'].plot.hist()\n",
        "df_collision['num_collisions'].value_counts()"
      ],
      "metadata": {
        "colab": {
          "base_uri": "https://localhost:8080/",
          "height": 369
        },
        "id": "0LmQLczifCgZ",
        "outputId": "b12e1af9-4254-4382-f9ea-efbc083f8eba"
      },
      "execution_count": 28,
      "outputs": [
        {
          "output_type": "execute_result",
          "data": {
            "text/plain": [
              "0.0    199\n",
              "1.0    107\n",
              "2.0     32\n",
              "3.0      7\n",
              "4.0      1\n",
              "Name: num_collisions, dtype: int64"
            ]
          },
          "metadata": {},
          "execution_count": 28
        },
        {
          "output_type": "display_data",
          "data": {
            "text/plain": [
              "<Figure size 432x288 with 1 Axes>"
            ],
            "image/png": "[encoded data removed]"
          },
          "metadata": {
            "needs_background": "light"
          }
        }
      ]
    },
    {
      "cell_type": "code",
      "source": [
        "from sklearn.linear_model import LogisticRegression\n",
        "from sklearn.svm import SVC\n",
        "\n",
        "class CLF: \n",
        "\n",
        "  def __init__(self, multiclass_weights, threshold_crash=0.5): \n",
        "    self.model_bin = LogisticRegression(solver='liblinear')\n",
        "    self.model_multi = SVC(class_weight=multiclass_weights)\n",
        "    self.threshold_crash = threshold_crash\n",
        "  \n",
        "  def fit(self, X_bin, y_bin, X_multi, y_multi):\n",
        "    self.model_bin.fit(X_bin, y_bin)\n",
        "    self.model_multi.fit(X_multi, y_multi)\n",
        "\n",
        "  def predict(self, X):\n",
        "    return np.where(self.model_bin.predict_proba(X)[:,0]<self.threshold_crash,\n",
        "                    self.model_bin.predict(X),\n",
        "                    self.model_multi.predict(X))\n",
        "\n",
        "  \n",
        "    "
      ],
      "metadata": {
        "id": "79pk0h4qBV-L"
      },
      "execution_count": null,
      "outputs": []
    },
    {
      "cell_type": "code",
      "source": [
        "# SPLIT DATA\n",
        "# all this data are from train set, so there is no need of traintest_split\n",
        "X_bin, y_bin  = df_clf_train.loc[:, df_clf_train.columns != 'num_collisions'], df_clf_train['num_collisions']\n",
        "X_multi, y_multi  = df_collision.loc[:, df_collision.columns != 'num_collisions'], df_collision['num_collisions']\n",
        "\n",
        "# CALC WEIGHT \n",
        "y_multi_count = y_multi.value_counts()\n",
        "len_y_train = len(y_multi)\n",
        "\n",
        "weight_dict = {0: (1 - y_multi_count[0] / len_y_train)**2,\n",
        "               1: (1 - y_multi_count[1] / len_y_train)**2,\n",
        "               2: (1 - y_multi_count[2] / len_y_train)**2,\n",
        "               3: (1 - y_multi_count[3] / len_y_train)**2,\n",
        "               4: (1 - y_multi_count[4] / len_y_train)**2\n",
        "               }\n",
        "'''\n",
        "\n",
        "weight_dict = {0: ( len_y_train / y_multi_count[0]),\n",
        "               1: ( len_y_train / y_multi_count[1]),\n",
        "               2: ( len_y_train / y_multi_count[2]),\n",
        "               3: ( len_y_train / y_multi_count[3]),\n",
        "               4: ( len_y_train / y_multi_count[4])\n",
        "               }\n",
        "'''\n",
        "weight_dict, y_multi_count"
      ],
      "metadata": {
        "id": "x9oEagj2E9dD",
        "colab": {
          "base_uri": "https://localhost:8080/"
        },
        "outputId": "71dc215f-f687-4e80-8893-0742bc1af38c"
      },
      "execution_count": null,
      "outputs": [
        {
          "output_type": "execute_result",
          "data": {
            "text/plain": [
              "({0: 0.38315217391304346,\n",
              "  1: 0.3654891304347826,\n",
              "  2: 1.8315217391304348,\n",
              "  3: 2.9184782608695654,\n",
              "  4: 5.983695652173913},\n",
              " 0.0    227\n",
              " 1.0     99\n",
              " 2.0     31\n",
              " 3.0     10\n",
              " 4.0      1\n",
              " Name: num_collisions, dtype: int64)"
            ]
          },
          "metadata": {},
          "execution_count": 268
        }
      ]
    },
    {
      "cell_type": "code",
      "source": [
        "# TRASNFORM AND NORMALIZEM\n",
        "X_bin = scaler.transform(X_bin)\n",
        "X_multi = scaler.transform(X_multi)\n",
        "\n",
        "#test_data\n",
        "X_test, y_test = df_clf_test.loc[:, df_clf_test.columns != 'num_collisions'], df_clf_test['num_collisions']\n",
        "X_test = scaler.transform(X_test)"
      ],
      "metadata": {
        "id": "RWXi_o4DJuQa"
      },
      "execution_count": null,
      "outputs": []
    },
    {
      "cell_type": "code",
      "source": [
        "#FIT CLF-DOUBLE MODEL \n",
        "clf = CLF(multiclass_weights=weight_dict, threshold_crash=0.75)\n",
        "clf.fit(X_bin, y_bin, X_multi, y_multi)\n",
        "\n",
        "#PLOT METRICS \n",
        "cf_matrix = confusion_matrix(clf.predict(X_test), y_test)\n",
        "skl.metrics.ConfusionMatrixDisplay(cf_matrix).plot()\n",
        "f1_score(y_test, clf.predict(X_test), average='weighted')"
      ],
      "metadata": {
        "colab": {
          "base_uri": "https://localhost:8080/",
          "height": 296
        },
        "id": "jQuQe6XRjI1N",
        "outputId": "c043b2c5-1e74-4bae-b3db-4f13cd2dbcb7"
      },
      "execution_count": null,
      "outputs": [
        {
          "output_type": "execute_result",
          "data": {
            "text/plain": [
              "0.4059722775100854"
            ]
          },
          "metadata": {},
          "execution_count": 261
        },
        {
          "output_type": "display_data",
          "data": {
            "text/plain": [
              "<Figure size 432x288 with 2 Axes>"
            ],
            "image/png": "[encoded data removed]"
          },
          "metadata": {
            "needs_background": "light"
          }
        }
      ]
    },
    {
      "cell_type": "markdown",
      "source": [
        "TEST 3: SET OF LOGISTIC REGRESSOR"
      ],
      "metadata": {
        "id": "jmcM8oq9ZBoR"
      }
    },
    {
      "cell_type": "code",
      "source": [
        "class CLF_double_log:\n",
        "\n",
        "  def __init__(self, multiclass_weights, threshold_crash=0.5): \n",
        "    self.model_bin = LogisticRegression(solver='liblinear')\n",
        "    self.model_multi = LogisticRegression(solver='saga', \n",
        "                                          max_iter=500,\n",
        "                                          class_weight=multiclass_weights)\n",
        "    self.threshold_crash = threshold_crash\n",
        "  \n",
        "  def fit(self, X_bin, y_bin, X_multi, y_multi):\n",
        "    self.model_bin.fit(X_bin, y_bin)\n",
        "    self.model_multi.fit(X_multi, y_multi)\n",
        "\n",
        "  def predict(self, X):\n",
        "    return np.where(self.model_bin.predict_proba(X)[:,0]<self.threshold_crash,\n",
        "                    self.model_bin.predict(X),\n",
        "                    self.model_multi.predict(X))\n",
        "\n",
        "  "
      ],
      "metadata": {
        "id": "pbXxhRJyZG0c"
      },
      "execution_count": null,
      "outputs": []
    },
    {
      "cell_type": "code",
      "source": [
        "clf_double_logit = CLF_double_log(multiclass_weights=weight_dict, threshold_crash=0.75)\n",
        "clf_double_logit.fit(X_bin, y_bin, X_multi, y_multi)\n",
        "\n",
        "\n",
        "#PLOT METRICS \n",
        "cf_matrix = confusion_matrix(clf_double_logit.predict(X_test), y_test)\n",
        "skl.metrics.ConfusionMatrixDisplay(cf_matrix).plot()\n",
        "f1_score(y_test, clf_double_logit.predict(X_test), average='weighted')"
      ],
      "metadata": {
        "colab": {
          "base_uri": "https://localhost:8080/",
          "height": 351
        },
        "id": "xW3XYBozZVKI",
        "outputId": "c0bb59cf-5234-450d-f7c7-20be8a0ce51f"
      },
      "execution_count": null,
      "outputs": [
        {
          "output_type": "stream",
          "name": "stderr",
          "text": [
            "/usr/local/lib/python3.8/dist-packages/sklearn/linear_model/_sag.py:352: ConvergenceWarning: The max_iter was reached which means the coef_ did not converge\n",
            "  warnings.warn(\n"
          ]
        },
        {
          "output_type": "execute_result",
          "data": {
            "text/plain": [
              "0.4020119370207039"
            ]
          },
          "metadata": {},
          "execution_count": 209
        },
        {
          "output_type": "display_data",
          "data": {
            "text/plain": [
              "<Figure size 432x288 with 2 Axes>"
            ],
            "image/png": "[encoded data removed]"
          },
          "metadata": {
            "needs_background": "light"
          }
        }
      ]
    },
    {
      "cell_type": "markdown",
      "source": [
        "REGRESSION SECT\n"
      ],
      "metadata": {
        "id": "l3yx-MsxgxNI"
      }
    },
    {
      "cell_type": "code",
      "source": [
        "df_reg = df.drop('num_collisions', axis=1)"
      ],
      "metadata": {
        "id": "AR8ETw1UmoAI"
      },
      "execution_count": null,
      "outputs": []
    },
    {
      "cell_type": "code",
      "source": [
        "from sklearn.preprocessing import StandardScaler\n",
        "from sklearn.model_selection import train_test_split\n",
        "\n",
        "\n",
        "X = df_reg.loc[:, df_reg.columns != 'min_CPA']\n",
        "y = df_reg['min_CPA']\n",
        "\n",
        "scaler = StandardScaler()\n",
        "X_train, X_test, y_train, y_test = train_test_split(X, y)\n",
        "\n",
        "X_train = scaler.fit_transform(X_train)\n",
        "X_test = scaler.transform(X_test)\n",
        "\n"
      ],
      "metadata": {
        "id": "Ap_ZoSsQmXIu"
      },
      "execution_count": null,
      "outputs": []
    },
    {
      "cell_type": "code",
      "source": [
        "params = {\n",
        "    'C'      : (1e-6, 1e-4, 1e-2, 1.0),\n",
        "    'gamma'  : ('scale', 'auto'),\n",
        "    'degree' : (1, 3, 5),\n",
        "    'kernel' : ['linear', 'poly', 'rbf', 'sigmoid']\n",
        "}"
      ],
      "metadata": {
        "id": "oye28_FAqjuQ"
      },
      "execution_count": null,
      "outputs": []
    },
    {
      "cell_type": "code",
      "source": [
        "%pip install scikit-optimize"
      ],
      "metadata": {
        "colab": {
          "base_uri": "https://localhost:8080/"
        },
        "id": "RGwynuS9qnqK",
        "outputId": "c8d4a19a-bdcf-487f-ca21-3ab2c7f4df33"
      },
      "execution_count": null,
      "outputs": [
        {
          "output_type": "stream",
          "name": "stdout",
          "text": [
            "Looking in indexes: https://pypi.org/simple, https://us-python.pkg.dev/colab-wheels/public/simple/\n",
            "Collecting scikit-optimize\n",
            "  Downloading scikit_optimize-0.9.0-py2.py3-none-any.whl (100 kB)\n",
            "\u001b[K     |████████████████████████████████| 100 kB 4.2 MB/s \n",
            "\u001b[?25hCollecting pyaml>=16.9\n",
            "  Downloading pyaml-21.10.1-py2.py3-none-any.whl (24 kB)\n",
            "Requirement already satisfied: numpy>=1.13.3 in /usr/local/lib/python3.8/dist-packages (from scikit-optimize) (1.21.6)\n",
            "Requirement already satisfied: scipy>=0.19.1 in /usr/local/lib/python3.8/dist-packages (from scikit-optimize) (1.7.3)\n",
            "Requirement already satisfied: joblib>=0.11 in /usr/local/lib/python3.8/dist-packages (from scikit-optimize) (1.2.0)\n",
            "Requirement already satisfied: scikit-learn>=0.20.0 in /usr/local/lib/python3.8/dist-packages (from scikit-optimize) (1.0.2)\n",
            "Requirement already satisfied: PyYAML in /usr/local/lib/python3.8/dist-packages (from pyaml>=16.9->scikit-optimize) (6.0)\n",
            "Requirement already satisfied: threadpoolctl>=2.0.0 in /usr/local/lib/python3.8/dist-packages (from scikit-learn>=0.20.0->scikit-optimize) (3.1.0)\n",
            "Installing collected packages: pyaml, scikit-optimize\n",
            "Successfully installed pyaml-21.10.1 scikit-optimize-0.9.0\n"
          ]
        }
      ]
    },
    {
      "cell_type": "code",
      "source": [
        "from sklearn.svm import SVR\n",
        "from sklearn.model_selection import KFold\n",
        "from sklearn.metrics import mean_squared_error\n",
        "from skopt import BayesSearchCV\n",
        "\n",
        "def scoring(model, X, y):\n",
        "  return mean_squared_error(y, model.predict(X))\n",
        "\n",
        "cv = KFold(n_splits=4)\n",
        "search = BayesSearchCV(estimator=SVR(), \n",
        "                       scoring=scoring,\n",
        "                       search_spaces=params,\n",
        "                       n_jobs=-1, cv=cv)"
      ],
      "metadata": {
        "id": "52AG_BfKsRJN"
      },
      "execution_count": null,
      "outputs": []
    },
    {
      "cell_type": "code",
      "source": [
        "search.fit(X_train, y_train)"
      ],
      "metadata": {
        "id": "NtF_NDrVsyd0",
        "outputId": "71134145-ae6d-410f-ac43-aee294b31509",
        "colab": {
          "base_uri": "https://localhost:8080/"
        }
      },
      "execution_count": null,
      "outputs": [
        {
          "output_type": "stream",
          "name": "stderr",
          "text": [
            "/usr/local/lib/python3.8/dist-packages/skopt/optimizer/optimizer.py:449: UserWarning: The objective has been evaluated at this point before.\n",
            "  warnings.warn(\"The objective has been evaluated \"\n",
            "/usr/local/lib/python3.8/dist-packages/skopt/optimizer/optimizer.py:449: UserWarning: The objective has been evaluated at this point before.\n",
            "  warnings.warn(\"The objective has been evaluated \"\n",
            "/usr/local/lib/python3.8/dist-packages/skopt/optimizer/optimizer.py:449: UserWarning: The objective has been evaluated at this point before.\n",
            "  warnings.warn(\"The objective has been evaluated \"\n",
            "/usr/local/lib/python3.8/dist-packages/skopt/optimizer/optimizer.py:449: UserWarning: The objective has been evaluated at this point before.\n",
            "  warnings.warn(\"The objective has been evaluated \"\n",
            "/usr/local/lib/python3.8/dist-packages/skopt/optimizer/optimizer.py:449: UserWarning: The objective has been evaluated at this point before.\n",
            "  warnings.warn(\"The objective has been evaluated \"\n",
            "/usr/local/lib/python3.8/dist-packages/skopt/optimizer/optimizer.py:449: UserWarning: The objective has been evaluated at this point before.\n",
            "  warnings.warn(\"The objective has been evaluated \"\n",
            "/usr/local/lib/python3.8/dist-packages/skopt/optimizer/optimizer.py:449: UserWarning: The objective has been evaluated at this point before.\n",
            "  warnings.warn(\"The objective has been evaluated \"\n",
            "/usr/local/lib/python3.8/dist-packages/skopt/optimizer/optimizer.py:449: UserWarning: The objective has been evaluated at this point before.\n",
            "  warnings.warn(\"The objective has been evaluated \"\n",
            "/usr/local/lib/python3.8/dist-packages/skopt/optimizer/optimizer.py:449: UserWarning: The objective has been evaluated at this point before.\n",
            "  warnings.warn(\"The objective has been evaluated \"\n",
            "/usr/local/lib/python3.8/dist-packages/skopt/optimizer/optimizer.py:449: UserWarning: The objective has been evaluated at this point before.\n",
            "  warnings.warn(\"The objective has been evaluated \"\n",
            "/usr/local/lib/python3.8/dist-packages/skopt/optimizer/optimizer.py:449: UserWarning: The objective has been evaluated at this point before.\n",
            "  warnings.warn(\"The objective has been evaluated \"\n",
            "/usr/local/lib/python3.8/dist-packages/skopt/optimizer/optimizer.py:449: UserWarning: The objective has been evaluated at this point before.\n",
            "  warnings.warn(\"The objective has been evaluated \"\n",
            "/usr/local/lib/python3.8/dist-packages/skopt/optimizer/optimizer.py:449: UserWarning: The objective has been evaluated at this point before.\n",
            "  warnings.warn(\"The objective has been evaluated \"\n",
            "/usr/local/lib/python3.8/dist-packages/skopt/optimizer/optimizer.py:449: UserWarning: The objective has been evaluated at this point before.\n",
            "  warnings.warn(\"The objective has been evaluated \"\n",
            "/usr/local/lib/python3.8/dist-packages/skopt/optimizer/optimizer.py:449: UserWarning: The objective has been evaluated at this point before.\n",
            "  warnings.warn(\"The objective has been evaluated \"\n",
            "/usr/local/lib/python3.8/dist-packages/skopt/optimizer/optimizer.py:449: UserWarning: The objective has been evaluated at this point before.\n",
            "  warnings.warn(\"The objective has been evaluated \"\n",
            "/usr/local/lib/python3.8/dist-packages/skopt/optimizer/optimizer.py:449: UserWarning: The objective has been evaluated at this point before.\n",
            "  warnings.warn(\"The objective has been evaluated \"\n",
            "/usr/local/lib/python3.8/dist-packages/skopt/optimizer/optimizer.py:449: UserWarning: The objective has been evaluated at this point before.\n",
            "  warnings.warn(\"The objective has been evaluated \"\n",
            "/usr/local/lib/python3.8/dist-packages/skopt/optimizer/optimizer.py:449: UserWarning: The objective has been evaluated at this point before.\n",
            "  warnings.warn(\"The objective has been evaluated \"\n",
            "/usr/local/lib/python3.8/dist-packages/skopt/optimizer/optimizer.py:449: UserWarning: The objective has been evaluated at this point before.\n",
            "  warnings.warn(\"The objective has been evaluated \"\n",
            "/usr/local/lib/python3.8/dist-packages/skopt/optimizer/optimizer.py:449: UserWarning: The objective has been evaluated at this point before.\n",
            "  warnings.warn(\"The objective has been evaluated \"\n",
            "/usr/local/lib/python3.8/dist-packages/skopt/optimizer/optimizer.py:449: UserWarning: The objective has been evaluated at this point before.\n",
            "  warnings.warn(\"The objective has been evaluated \"\n",
            "/usr/local/lib/python3.8/dist-packages/skopt/optimizer/optimizer.py:449: UserWarning: The objective has been evaluated at this point before.\n",
            "  warnings.warn(\"The objective has been evaluated \"\n",
            "/usr/local/lib/python3.8/dist-packages/skopt/optimizer/optimizer.py:449: UserWarning: The objective has been evaluated at this point before.\n",
            "  warnings.warn(\"The objective has been evaluated \"\n",
            "/usr/local/lib/python3.8/dist-packages/skopt/optimizer/optimizer.py:449: UserWarning: The objective has been evaluated at this point before.\n",
            "  warnings.warn(\"The objective has been evaluated \"\n",
            "/usr/local/lib/python3.8/dist-packages/skopt/optimizer/optimizer.py:449: UserWarning: The objective has been evaluated at this point before.\n",
            "  warnings.warn(\"The objective has been evaluated \"\n",
            "/usr/local/lib/python3.8/dist-packages/skopt/optimizer/optimizer.py:449: UserWarning: The objective has been evaluated at this point before.\n",
            "  warnings.warn(\"The objective has been evaluated \"\n",
            "/usr/local/lib/python3.8/dist-packages/skopt/optimizer/optimizer.py:449: UserWarning: The objective has been evaluated at this point before.\n",
            "  warnings.warn(\"The objective has been evaluated \"\n",
            "/usr/local/lib/python3.8/dist-packages/skopt/optimizer/optimizer.py:449: UserWarning: The objective has been evaluated at this point before.\n",
            "  warnings.warn(\"The objective has been evaluated \"\n",
            "/usr/local/lib/python3.8/dist-packages/skopt/optimizer/optimizer.py:449: UserWarning: The objective has been evaluated at this point before.\n",
            "  warnings.warn(\"The objective has been evaluated \"\n",
            "/usr/local/lib/python3.8/dist-packages/skopt/optimizer/optimizer.py:449: UserWarning: The objective has been evaluated at this point before.\n",
            "  warnings.warn(\"The objective has been evaluated \"\n",
            "/usr/local/lib/python3.8/dist-packages/skopt/optimizer/optimizer.py:449: UserWarning: The objective has been evaluated at this point before.\n",
            "  warnings.warn(\"The objective has been evaluated \"\n",
            "/usr/local/lib/python3.8/dist-packages/skopt/optimizer/optimizer.py:449: UserWarning: The objective has been evaluated at this point before.\n",
            "  warnings.warn(\"The objective has been evaluated \"\n",
            "/usr/local/lib/python3.8/dist-packages/skopt/optimizer/optimizer.py:449: UserWarning: The objective has been evaluated at this point before.\n",
            "  warnings.warn(\"The objective has been evaluated \"\n",
            "/usr/local/lib/python3.8/dist-packages/skopt/optimizer/optimizer.py:449: UserWarning: The objective has been evaluated at this point before.\n",
            "  warnings.warn(\"The objective has been evaluated \"\n",
            "/usr/local/lib/python3.8/dist-packages/skopt/optimizer/optimizer.py:449: UserWarning: The objective has been evaluated at this point before.\n",
            "  warnings.warn(\"The objective has been evaluated \"\n",
            "/usr/local/lib/python3.8/dist-packages/skopt/optimizer/optimizer.py:449: UserWarning: The objective has been evaluated at this point before.\n",
            "  warnings.warn(\"The objective has been evaluated \"\n",
            "/usr/local/lib/python3.8/dist-packages/skopt/optimizer/optimizer.py:449: UserWarning: The objective has been evaluated at this point before.\n",
            "  warnings.warn(\"The objective has been evaluated \"\n"
          ]
        },
        {
          "output_type": "execute_result",
          "data": {
            "text/plain": [
              "BayesSearchCV(cv=KFold(n_splits=4, random_state=None, shuffle=False),\n",
              "              estimator=SVR(), n_jobs=-1,\n",
              "              scoring=<function scoring at 0x7f437682e0d0>,\n",
              "              search_spaces={'C': (1e-06, 0.0001, 0.01, 1.0),\n",
              "                             'degree': (1, 3, 5), 'gamma': ('scale', 'auto'),\n",
              "                             'kernel': ['linear', 'poly', 'rbf', 'sigmoid']})"
            ]
          },
          "metadata": {},
          "execution_count": 29
        }
      ]
    },
    {
      "cell_type": "code",
      "source": [
        "print(\"val. score: %s\" % search.best_score_)\n",
        "print(\"test score: %s\" % search.score(X_test, y_test))\n",
        "print(\"best params: %s\" % str(search.best_params_))"
      ],
      "metadata": {
        "colab": {
          "base_uri": "https://localhost:8080/"
        },
        "id": "kDfT_L3DUy0A",
        "outputId": "db84d219-6a87-4f9a-bfda-c06c2a36a3ff"
      },
      "execution_count": null,
      "outputs": [
        {
          "output_type": "stream",
          "name": "stdout",
          "text": [
            "val. score: 129130492.59370218\n",
            "test score: 147641097.2211131\n",
            "best params: OrderedDict([('C', 1.0), ('degree', 3), ('gamma', 'scale'), ('kernel', 'linear')])\n"
          ]
        }
      ]
    },
    {
      "cell_type": "code",
      "source": [
        "from sklearn.metrics import mean_squared_error\n",
        "from sklearn.ensemble import GradientBoostingRegressor\n",
        "\n",
        "params = {\n",
        "    \"n_estimators\": (200, 300, 500),\n",
        "    \"max_depth\": (1, 2, 3, 4, 5), \n",
        "    \"learning_rate\": (0.1, 0.05, 0.01),\n",
        "}\n",
        "\n",
        "\n",
        "cv = KFold(n_splits=4)\n",
        "search = BayesSearchCV(estimator= GradientBoostingRegressor(),\n",
        "                       scoring=scoring,\n",
        "                       search_spaces=params,\n",
        "                       n_jobs=-1, cv=cv)\n",
        "search.fit(X_train, y_train)\n",
        "\n",
        "\n",
        "print(\"val. score: %s\" % search.best_score_)\n",
        "print(\"test score: %s\" % search.score(X_test, y_test))\n",
        "print(\"best params: %s\" % str(search.best_params_))"
      ],
      "metadata": {
        "colab": {
          "base_uri": "https://localhost:8080/"
        },
        "id": "SqdTI9D2oW0T",
        "outputId": "5216a82d-9446-4a62-b6f0-48437bea22cc"
      },
      "execution_count": null,
      "outputs": [
        {
          "output_type": "stream",
          "name": "stderr",
          "text": [
            "/usr/local/lib/python3.8/dist-packages/skopt/optimizer/optimizer.py:449: UserWarning: The objective has been evaluated at this point before.\n",
            "  warnings.warn(\"The objective has been evaluated \"\n",
            "/usr/local/lib/python3.8/dist-packages/skopt/optimizer/optimizer.py:449: UserWarning: The objective has been evaluated at this point before.\n",
            "  warnings.warn(\"The objective has been evaluated \"\n",
            "/usr/local/lib/python3.8/dist-packages/skopt/optimizer/optimizer.py:449: UserWarning: The objective has been evaluated at this point before.\n",
            "  warnings.warn(\"The objective has been evaluated \"\n",
            "/usr/local/lib/python3.8/dist-packages/skopt/optimizer/optimizer.py:449: UserWarning: The objective has been evaluated at this point before.\n",
            "  warnings.warn(\"The objective has been evaluated \"\n",
            "/usr/local/lib/python3.8/dist-packages/skopt/optimizer/optimizer.py:449: UserWarning: The objective has been evaluated at this point before.\n",
            "  warnings.warn(\"The objective has been evaluated \"\n",
            "/usr/local/lib/python3.8/dist-packages/skopt/optimizer/optimizer.py:449: UserWarning: The objective has been evaluated at this point before.\n",
            "  warnings.warn(\"The objective has been evaluated \"\n",
            "/usr/local/lib/python3.8/dist-packages/skopt/optimizer/optimizer.py:449: UserWarning: The objective has been evaluated at this point before.\n",
            "  warnings.warn(\"The objective has been evaluated \"\n",
            "/usr/local/lib/python3.8/dist-packages/skopt/optimizer/optimizer.py:449: UserWarning: The objective has been evaluated at this point before.\n",
            "  warnings.warn(\"The objective has been evaluated \"\n",
            "/usr/local/lib/python3.8/dist-packages/skopt/optimizer/optimizer.py:449: UserWarning: The objective has been evaluated at this point before.\n",
            "  warnings.warn(\"The objective has been evaluated \"\n",
            "/usr/local/lib/python3.8/dist-packages/skopt/optimizer/optimizer.py:449: UserWarning: The objective has been evaluated at this point before.\n",
            "  warnings.warn(\"The objective has been evaluated \"\n",
            "/usr/local/lib/python3.8/dist-packages/skopt/optimizer/optimizer.py:449: UserWarning: The objective has been evaluated at this point before.\n",
            "  warnings.warn(\"The objective has been evaluated \"\n",
            "/usr/local/lib/python3.8/dist-packages/skopt/optimizer/optimizer.py:449: UserWarning: The objective has been evaluated at this point before.\n",
            "  warnings.warn(\"The objective has been evaluated \"\n",
            "/usr/local/lib/python3.8/dist-packages/skopt/optimizer/optimizer.py:449: UserWarning: The objective has been evaluated at this point before.\n",
            "  warnings.warn(\"The objective has been evaluated \"\n",
            "/usr/local/lib/python3.8/dist-packages/skopt/optimizer/optimizer.py:449: UserWarning: The objective has been evaluated at this point before.\n",
            "  warnings.warn(\"The objective has been evaluated \"\n",
            "/usr/local/lib/python3.8/dist-packages/skopt/optimizer/optimizer.py:449: UserWarning: The objective has been evaluated at this point before.\n",
            "  warnings.warn(\"The objective has been evaluated \"\n",
            "/usr/local/lib/python3.8/dist-packages/skopt/optimizer/optimizer.py:449: UserWarning: The objective has been evaluated at this point before.\n",
            "  warnings.warn(\"The objective has been evaluated \"\n",
            "/usr/local/lib/python3.8/dist-packages/skopt/optimizer/optimizer.py:449: UserWarning: The objective has been evaluated at this point before.\n",
            "  warnings.warn(\"The objective has been evaluated \"\n",
            "/usr/local/lib/python3.8/dist-packages/skopt/optimizer/optimizer.py:449: UserWarning: The objective has been evaluated at this point before.\n",
            "  warnings.warn(\"The objective has been evaluated \"\n",
            "/usr/local/lib/python3.8/dist-packages/skopt/optimizer/optimizer.py:449: UserWarning: The objective has been evaluated at this point before.\n",
            "  warnings.warn(\"The objective has been evaluated \"\n",
            "/usr/local/lib/python3.8/dist-packages/skopt/optimizer/optimizer.py:449: UserWarning: The objective has been evaluated at this point before.\n",
            "  warnings.warn(\"The objective has been evaluated \"\n",
            "/usr/local/lib/python3.8/dist-packages/skopt/optimizer/optimizer.py:449: UserWarning: The objective has been evaluated at this point before.\n",
            "  warnings.warn(\"The objective has been evaluated \"\n",
            "/usr/local/lib/python3.8/dist-packages/skopt/optimizer/optimizer.py:449: UserWarning: The objective has been evaluated at this point before.\n",
            "  warnings.warn(\"The objective has been evaluated \"\n",
            "/usr/local/lib/python3.8/dist-packages/skopt/optimizer/optimizer.py:449: UserWarning: The objective has been evaluated at this point before.\n",
            "  warnings.warn(\"The objective has been evaluated \"\n",
            "/usr/local/lib/python3.8/dist-packages/skopt/optimizer/optimizer.py:449: UserWarning: The objective has been evaluated at this point before.\n",
            "  warnings.warn(\"The objective has been evaluated \"\n",
            "/usr/local/lib/python3.8/dist-packages/skopt/optimizer/optimizer.py:449: UserWarning: The objective has been evaluated at this point before.\n",
            "  warnings.warn(\"The objective has been evaluated \"\n",
            "/usr/local/lib/python3.8/dist-packages/skopt/optimizer/optimizer.py:449: UserWarning: The objective has been evaluated at this point before.\n",
            "  warnings.warn(\"The objective has been evaluated \"\n",
            "/usr/local/lib/python3.8/dist-packages/skopt/optimizer/optimizer.py:449: UserWarning: The objective has been evaluated at this point before.\n",
            "  warnings.warn(\"The objective has been evaluated \"\n",
            "/usr/local/lib/python3.8/dist-packages/skopt/optimizer/optimizer.py:449: UserWarning: The objective has been evaluated at this point before.\n",
            "  warnings.warn(\"The objective has been evaluated \"\n",
            "/usr/local/lib/python3.8/dist-packages/skopt/optimizer/optimizer.py:449: UserWarning: The objective has been evaluated at this point before.\n",
            "  warnings.warn(\"The objective has been evaluated \"\n",
            "/usr/local/lib/python3.8/dist-packages/skopt/optimizer/optimizer.py:449: UserWarning: The objective has been evaluated at this point before.\n",
            "  warnings.warn(\"The objective has been evaluated \"\n",
            "/usr/local/lib/python3.8/dist-packages/skopt/optimizer/optimizer.py:449: UserWarning: The objective has been evaluated at this point before.\n",
            "  warnings.warn(\"The objective has been evaluated \"\n"
          ]
        },
        {
          "output_type": "stream",
          "name": "stdout",
          "text": [
            "val. score: 147748563.1174178\n",
            "test score: 143599436.03617823\n",
            "best params: OrderedDict([('learning_rate', 0.1), ('max_depth', 2), ('n_estimators', 500)])\n"
          ]
        }
      ]
    }
  ],
  "metadata": {
    "colab": {
      "provenance": []
    },
    "kernelspec": {
      "display_name": "Python 3",
      "name": "python3"
    },
    "language_info": {
      "name": "python"
    }
  },
  "nbformat": 4,
  "nbformat_minor": 0
}